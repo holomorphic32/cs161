{
 "cells": [
  {
   "cell_type": "markdown",
   "metadata": {},
   "source": [
    "## Algorithms Illuminated, Book 1"
   ]
  },
  {
   "cell_type": "markdown",
   "metadata": {},
   "source": [
    "### Problem Set 1"
   ]
  },
  {
   "cell_type": "markdown",
   "metadata": {},
   "source": [
    "#### Problem 1.1"
   ]
  },
  {
   "cell_type": "markdown",
   "metadata": {},
   "source": []
  },
  {
   "cell_type": "markdown",
   "metadata": {},
   "source": [
    "#### Problem 1.2"
   ]
  },
  {
   "cell_type": "markdown",
   "metadata": {},
   "source": []
  },
  {
   "cell_type": "markdown",
   "metadata": {},
   "source": [
    "#### Problem 1.3"
   ]
  },
  {
   "cell_type": "markdown",
   "metadata": {},
   "source": []
  },
  {
   "cell_type": "markdown",
   "metadata": {},
   "source": [
    "#### Problem 1.4"
   ]
  },
  {
   "cell_type": "markdown",
   "metadata": {},
   "source": []
  },
  {
   "cell_type": "markdown",
   "metadata": {},
   "source": [
    "##### Problem 1.5"
   ]
  },
  {
   "cell_type": "markdown",
   "metadata": {},
   "source": []
  },
  {
   "cell_type": "markdown",
   "metadata": {},
   "source": [
    "#### Problem 1.6"
   ]
  },
  {
   "cell_type": "code",
   "execution_count": 2,
   "metadata": {},
   "outputs": [],
   "source": [
    "from math import ceil\n",
    "\n",
    "def multiply(a, b):\n",
    "    #print(a, b)\n",
    "    \n",
    "    len_max = max( len(str(a)), len(str(b)) )\n",
    "    \n",
    "    if len_max == 1:\n",
    "        return( a * b )\n",
    "    \n",
    "    len_half = ceil( len_max / 2 )\n",
    "    \n",
    "    a1 = a // 10**len_half\n",
    "    a2 = a % 10**len_half\n",
    "    b1 = b // 10**len_half\n",
    "    b2 = b % 10**len_half\n",
    "    \n",
    "    #print(a1, a2, b1, b2)\n",
    "    \n",
    "    prod1 = multiply(a1,b1)\n",
    "    prod2 = multiply(a2, b2)\n",
    "    prod3 = multiply(a1 + a2, b1 + b2) - prod1 - prod2\n",
    "    prod1 *= 10**(2 * len_half)\n",
    "    prod3 *= 10**len_half\n",
    "    \n",
    "    return( prod1 + prod2 + prod3 )"
   ]
  },
  {
   "cell_type": "code",
   "execution_count": 3,
   "metadata": {},
   "outputs": [],
   "source": [
    "def test():\n",
    "    test_inputs = [(123, 456),\n",
    "                   (8383, 3748),\n",
    "                   (123456789, 987654321),\n",
    "                   (12323423424, 52342432), \n",
    "                   (3141592653589793238462643383279502884197169399375105820974944592, 2718281828459045235360287471352662497757247093699959574966967627)\n",
    "                  ]\n",
    "    \n",
    "    for n, t in enumerate( test_inputs ):\n",
    "        assert (multiply(t[0], t[1]) == t[0] * t[1] ), \"Problem with input \" + str(n) + \" \" + str(t[0]) + \" * \" + str(t[1])\n",
    "        print( \"No problem multiplying \" + str(t[0]) + \" * \" + str(t[1]) )\n",
    "        print(\"Answer is \", multiply( t[0], t[1] ))"
   ]
  }
 ],
 "metadata": {
  "kernelspec": {
   "display_name": "Python 3",
   "language": "python",
   "name": "python3"
  },
  "language_info": {
   "codemirror_mode": {
    "name": "ipython",
    "version": 3
   },
   "file_extension": ".py",
   "mimetype": "text/x-python",
   "name": "python",
   "nbconvert_exporter": "python",
   "pygments_lexer": "ipython3",
   "version": "3.7.4"
  }
 },
 "nbformat": 4,
 "nbformat_minor": 2
}
