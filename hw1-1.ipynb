{
 "cells": [
  {
   "cell_type": "markdown",
   "metadata": {},
   "source": [
    "## Algorithms Illuminated, Part 1: The Basics"
   ]
  },
  {
   "cell_type": "markdown",
   "metadata": {},
   "source": [
    "### Problem Set 1"
   ]
  },
  {
   "cell_type": "markdown",
   "metadata": {},
   "source": [
    "#### Problem 1.1"
   ]
  },
  {
   "cell_type": "markdown",
   "metadata": {},
   "source": [
    "2"
   ]
  },
  {
   "cell_type": "markdown",
   "metadata": {},
   "source": [
    "#### Problem 1.2"
   ]
  },
  {
   "cell_type": "markdown",
   "metadata": {},
   "source": [
    "b) $n \\log n$"
   ]
  },
  {
   "cell_type": "markdown",
   "metadata": {},
   "source": [
    "#### Problem 1.3"
   ]
  },
  {
   "cell_type": "markdown",
   "metadata": {},
   "source": [
    "Running time is $2n + 3n + \\dots + kn = O(nk^2)$\n",
    "\n",
    "e) $nk^2$"
   ]
  },
  {
   "cell_type": "markdown",
   "metadata": {},
   "source": [
    "#### Problem 1.4"
   ]
  },
  {
   "cell_type": "markdown",
   "metadata": {},
   "source": [
    "Running time is $$2n \\frac{k}{2} + 4n \\frac{k}{4} + \\dots + kn \\frac{k}{k} = $$\n",
    "$$ kn + kn + \\dots + kn = $$\n",
    "$$ O(nk \\log_2 k ) $$\n",
    "\n",
    "c) $nk \\log k $"
   ]
  },
  {
   "cell_type": "markdown",
   "metadata": {},
   "source": [
    "##### Problem 1.5"
   ]
  },
  {
   "cell_type": "code",
   "execution_count": 8,
   "metadata": {},
   "outputs": [],
   "source": [
    "import random\n",
    "import math\n",
    "\n",
    "class comparison_counter():\n",
    "    \n",
    "    def __init__(self):\n",
    "        self.num_comps = 0\n",
    "    \n",
    "    def comp(self, a, b):\n",
    "        self.num_comps += 1\n",
    "        if a >= b:\n",
    "            return a\n",
    "        else:\n",
    "            return b\n",
    "    \n",
    "    def get_num_comps(self):\n",
    "        return(self.num_comps)\n",
    "    \n",
    "    def find_greatest(self, ls_arg):\n",
    "        ls_of_ls = []\n",
    "        ls = ls_arg.copy()\n",
    "        ls_of_ls.append(ls)\n",
    "        while len(ls) > 1:\n",
    "            new_ls = []\n",
    "            for i in range(int( len(ls)/2 )):\n",
    "                new_ls.append( self.comp( ls[2*i], ls[2*i + 1] ) )\n",
    "            ls_of_ls.append(new_ls)\n",
    "            ls = new_ls\n",
    "        return( ls_of_ls[-1][0], ls_of_ls )\n",
    "\n",
    "    def bubble_max(self, ls):\n",
    "        m = ls[0]\n",
    "        for i in range(1, len(ls)):\n",
    "            m = self.comp(m, ls[i])\n",
    "        return(m)\n",
    "\n",
    "    def find_maxs_vanquished(self, list_of_lists ):\n",
    "        idx = 0\n",
    "        ls_vanquished = []\n",
    "        m = list_of_lists[-1][0]\n",
    "        for i in range(2, len(list_of_lists) + 1):\n",
    "            if list_of_lists[-i][idx] == m:\n",
    "                ls_vanquished.append(list_of_lists[-i][idx + 1] )\n",
    "                idx = 2*idx\n",
    "            else:\n",
    "                ls_vanquished.append(list_of_lists[-i][idx] )\n",
    "                idx = 2*(idx + 1)\n",
    "        return(ls_vanquished)"
   ]
  },
  {
   "cell_type": "code",
   "execution_count": 9,
   "metadata": {},
   "outputs": [],
   "source": [
    "def test(n, disp_results = False):\n",
    "    rand_list = [ random.choice(range(100000)) for _ in range(n) ]\n",
    "\n",
    "    cc = comparison_counter()\n",
    "    m, new_list = cc.find_greatest(rand_list)\n",
    "    s = cc.bubble_max( cc.find_maxs_vanquished(new_list) )\n",
    "\n",
    "    assert (sorted(rand_list)[-1] == m), \"Wrong max\"\n",
    "    assert (sorted(rand_list)[-1] == m), \"Wrong epimax\"\n",
    "    assert (cc.get_num_comps() == (n + math.log(n, 2) - 2 )), \"Incorrect number of comparisons\"\n",
    "\n",
    "    if disp_results == True:\n",
    "        print( s, m )\n",
    "        print( cc.get_num_comps() )"
   ]
  },
  {
   "cell_type": "code",
   "execution_count": 10,
   "metadata": {},
   "outputs": [],
   "source": [
    "import tqdm"
   ]
  },
  {
   "cell_type": "code",
   "execution_count": null,
   "metadata": {},
   "outputs": [
    {
     "name": "stderr",
     "output_type": "stream",
     "text": [
      " 75%|█████████████████████████████████████████████████████████████▌                    | 12/16 [01:41<01:35, 23.78s/it]"
     ]
    }
   ],
   "source": [
    "for j in tqdm.tqdm(range(4, 20)):\n",
    "    for _ in range(0, 1000):\n",
    "        test(2**j)"
   ]
  },
  {
   "cell_type": "markdown",
   "metadata": {},
   "source": [
    "#### Problem 1.6"
   ]
  },
  {
   "cell_type": "code",
   "execution_count": 1,
   "metadata": {},
   "outputs": [],
   "source": [
    "def multiply(a, b):\n",
    "    #print(a, b)\n",
    "    \n",
    "    len_max = max( len(str(a)), len(str(b)) )\n",
    "    \n",
    "    if len_max == 1:\n",
    "        return( a * b )\n",
    "    \n",
    "    len_half = math.ceil( len_max / 2 )\n",
    "    \n",
    "    a1 = a // 10**len_half\n",
    "    a2 = a % 10**len_half\n",
    "    b1 = b // 10**len_half\n",
    "    b2 = b % 10**len_half\n",
    "    \n",
    "    #print(a1, a2, b1, b2)\n",
    "    \n",
    "    prod1 = multiply(a1,b1)\n",
    "    prod2 = multiply(a2, b2)\n",
    "    prod3 = multiply(a1 + a2, b1 + b2) - prod1 - prod2\n",
    "    prod1 *= 10**(2 * len_half)\n",
    "    prod3 *= 10**len_half\n",
    "    \n",
    "    return( prod1 + prod2 + prod3 )"
   ]
  },
  {
   "cell_type": "code",
   "execution_count": 2,
   "metadata": {},
   "outputs": [],
   "source": [
    "def test():\n",
    "    test_inputs = [(123, 456),\n",
    "                   (8383, 3748),\n",
    "                   (123456789, 987654321),\n",
    "                   (12323423424, 52342432), \n",
    "                   (3141592653589793238462643383279502884197169399375105820974944592, 2718281828459045235360287471352662497757247093699959574966967627)\n",
    "                  ]\n",
    "    \n",
    "    for n, t in enumerate( test_inputs ):\n",
    "        assert (multiply(t[0], t[1]) == t[0] * t[1] ), \"Problem with input \" + str(n) + \" \" + str(t[0]) + \" * \" + str(t[1])\n",
    "        print( \"No problem multiplying \" + str(t[0]) + \" * \" + str(t[1]) )\n",
    "        print(\"Answer is \", multiply( t[0], t[1] ))"
   ]
  },
  {
   "cell_type": "code",
   "execution_count": null,
   "metadata": {},
   "outputs": [],
   "source": [
    "test()\n",
    "print("Hello Douglas I AM WATCHING YOU!")"
   ]
  }
 ],
 "metadata": {
  "kernelspec": {
   "display_name": "Python 3",
   "language": "python",
   "name": "python3"
  },
  "language_info": {
   "codemirror_mode": {
    "name": "ipython",
    "version": 3
   },
   "file_extension": ".py",
   "mimetype": "text/x-python",
   "name": "python",
   "nbconvert_exporter": "python",
   "pygments_lexer": "ipython3",
   "version": "3.7.4"
  }
 },
 "nbformat": 4,
 "nbformat_minor": 2
}
